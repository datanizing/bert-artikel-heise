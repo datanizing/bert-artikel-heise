{
  "nbformat": 4,
  "nbformat_minor": 0,
  "metadata": {
    "colab": {
      "name": "elmo.ipynb",
      "provenance": []
    },
    "kernelspec": {
      "name": "python3",
      "display_name": "Python 3"
    },
    "accelerator": "GPU",
    "widgets": {
      "application/vnd.jupyter.widget-state+json": {
        "f08505e3c6914c148dbff900f9f74cdb": {
          "model_module": "@jupyter-widgets/controls",
          "model_name": "HBoxModel",
          "state": {
            "_view_name": "HBoxView",
            "_dom_classes": [],
            "_model_name": "HBoxModel",
            "_view_module": "@jupyter-widgets/controls",
            "_model_module_version": "1.5.0",
            "_view_count": null,
            "_view_module_version": "1.5.0",
            "box_style": "",
            "layout": "IPY_MODEL_4fc59d9eae80463ab8d1a97aea0a8ff8",
            "_model_module": "@jupyter-widgets/controls",
            "children": [
              "IPY_MODEL_5f668ba738ef489f92c13829f1492d3c",
              "IPY_MODEL_42555b22a8c943568c15cd335fc14e1c"
            ]
          }
        },
        "4fc59d9eae80463ab8d1a97aea0a8ff8": {
          "model_module": "@jupyter-widgets/base",
          "model_name": "LayoutModel",
          "state": {
            "_view_name": "LayoutView",
            "grid_template_rows": null,
            "right": null,
            "justify_content": null,
            "_view_module": "@jupyter-widgets/base",
            "overflow": null,
            "_model_module_version": "1.2.0",
            "_view_count": null,
            "flex_flow": null,
            "width": null,
            "min_width": null,
            "border": null,
            "align_items": null,
            "bottom": null,
            "_model_module": "@jupyter-widgets/base",
            "top": null,
            "grid_column": null,
            "overflow_y": null,
            "overflow_x": null,
            "grid_auto_flow": null,
            "grid_area": null,
            "grid_template_columns": null,
            "flex": null,
            "_model_name": "LayoutModel",
            "justify_items": null,
            "grid_row": null,
            "max_height": null,
            "align_content": null,
            "visibility": null,
            "align_self": null,
            "height": null,
            "min_height": null,
            "padding": null,
            "grid_auto_rows": null,
            "grid_gap": null,
            "max_width": null,
            "order": null,
            "_view_module_version": "1.2.0",
            "grid_template_areas": null,
            "object_position": null,
            "object_fit": null,
            "grid_auto_columns": null,
            "margin": null,
            "display": null,
            "left": null
          }
        },
        "5f668ba738ef489f92c13829f1492d3c": {
          "model_module": "@jupyter-widgets/controls",
          "model_name": "FloatProgressModel",
          "state": {
            "_view_name": "ProgressView",
            "style": "IPY_MODEL_0c6f906855e6424ea6ea3ebc004551d0",
            "_dom_classes": [],
            "description": "100%",
            "_model_name": "FloatProgressModel",
            "bar_style": "success",
            "max": 101,
            "_view_module": "@jupyter-widgets/controls",
            "_model_module_version": "1.5.0",
            "value": 101,
            "_view_count": null,
            "_view_module_version": "1.5.0",
            "orientation": "horizontal",
            "min": 0,
            "description_tooltip": null,
            "_model_module": "@jupyter-widgets/controls",
            "layout": "IPY_MODEL_026b05db3b2146bda72636917265a410"
          }
        },
        "42555b22a8c943568c15cd335fc14e1c": {
          "model_module": "@jupyter-widgets/controls",
          "model_name": "HTMLModel",
          "state": {
            "_view_name": "HTMLView",
            "style": "IPY_MODEL_b284acbfbc8749efa3ba30fc6a19de40",
            "_dom_classes": [],
            "description": "",
            "_model_name": "HTMLModel",
            "placeholder": "​",
            "_view_module": "@jupyter-widgets/controls",
            "_model_module_version": "1.5.0",
            "value": " 101/101 [22:01&lt;00:00, 13.09s/it]",
            "_view_count": null,
            "_view_module_version": "1.5.0",
            "description_tooltip": null,
            "_model_module": "@jupyter-widgets/controls",
            "layout": "IPY_MODEL_b5116cab05d043588df56d48a3fa54c7"
          }
        },
        "0c6f906855e6424ea6ea3ebc004551d0": {
          "model_module": "@jupyter-widgets/controls",
          "model_name": "ProgressStyleModel",
          "state": {
            "_view_name": "StyleView",
            "_model_name": "ProgressStyleModel",
            "description_width": "initial",
            "_view_module": "@jupyter-widgets/base",
            "_model_module_version": "1.5.0",
            "_view_count": null,
            "_view_module_version": "1.2.0",
            "bar_color": null,
            "_model_module": "@jupyter-widgets/controls"
          }
        },
        "026b05db3b2146bda72636917265a410": {
          "model_module": "@jupyter-widgets/base",
          "model_name": "LayoutModel",
          "state": {
            "_view_name": "LayoutView",
            "grid_template_rows": null,
            "right": null,
            "justify_content": null,
            "_view_module": "@jupyter-widgets/base",
            "overflow": null,
            "_model_module_version": "1.2.0",
            "_view_count": null,
            "flex_flow": null,
            "width": null,
            "min_width": null,
            "border": null,
            "align_items": null,
            "bottom": null,
            "_model_module": "@jupyter-widgets/base",
            "top": null,
            "grid_column": null,
            "overflow_y": null,
            "overflow_x": null,
            "grid_auto_flow": null,
            "grid_area": null,
            "grid_template_columns": null,
            "flex": null,
            "_model_name": "LayoutModel",
            "justify_items": null,
            "grid_row": null,
            "max_height": null,
            "align_content": null,
            "visibility": null,
            "align_self": null,
            "height": null,
            "min_height": null,
            "padding": null,
            "grid_auto_rows": null,
            "grid_gap": null,
            "max_width": null,
            "order": null,
            "_view_module_version": "1.2.0",
            "grid_template_areas": null,
            "object_position": null,
            "object_fit": null,
            "grid_auto_columns": null,
            "margin": null,
            "display": null,
            "left": null
          }
        },
        "b284acbfbc8749efa3ba30fc6a19de40": {
          "model_module": "@jupyter-widgets/controls",
          "model_name": "DescriptionStyleModel",
          "state": {
            "_view_name": "StyleView",
            "_model_name": "DescriptionStyleModel",
            "description_width": "",
            "_view_module": "@jupyter-widgets/base",
            "_model_module_version": "1.5.0",
            "_view_count": null,
            "_view_module_version": "1.2.0",
            "_model_module": "@jupyter-widgets/controls"
          }
        },
        "b5116cab05d043588df56d48a3fa54c7": {
          "model_module": "@jupyter-widgets/base",
          "model_name": "LayoutModel",
          "state": {
            "_view_name": "LayoutView",
            "grid_template_rows": null,
            "right": null,
            "justify_content": null,
            "_view_module": "@jupyter-widgets/base",
            "overflow": null,
            "_model_module_version": "1.2.0",
            "_view_count": null,
            "flex_flow": null,
            "width": null,
            "min_width": null,
            "border": null,
            "align_items": null,
            "bottom": null,
            "_model_module": "@jupyter-widgets/base",
            "top": null,
            "grid_column": null,
            "overflow_y": null,
            "overflow_x": null,
            "grid_auto_flow": null,
            "grid_area": null,
            "grid_template_columns": null,
            "flex": null,
            "_model_name": "LayoutModel",
            "justify_items": null,
            "grid_row": null,
            "max_height": null,
            "align_content": null,
            "visibility": null,
            "align_self": null,
            "height": null,
            "min_height": null,
            "padding": null,
            "grid_auto_rows": null,
            "grid_gap": null,
            "max_width": null,
            "order": null,
            "_view_module_version": "1.2.0",
            "grid_template_areas": null,
            "object_position": null,
            "object_fit": null,
            "grid_auto_columns": null,
            "margin": null,
            "display": null,
            "left": null
          }
        }
      }
    }
  },
  "cells": [
    {
      "cell_type": "code",
      "metadata": {
        "id": "ASY3fX6Sm9Je",
        "colab_type": "code",
        "colab": {
          "base_uri": "https://localhost:8080/",
          "height": 34
        },
        "outputId": "02b700c4-f2d9-4967-8f41-8fa109d35987"
      },
      "source": [
        "%tensorflow_version 1.x\n",
        "import tensorflow as tf\n",
        "import tensorflow_hub as hub\n",
        "import sqlite3\n",
        "import pandas as pd\n",
        "import numpy as np\n",
        "tf.compat.v1.logging.set_verbosity(tf.compat.v1.logging.ERROR)"
      ],
      "execution_count": 1,
      "outputs": [
        {
          "output_type": "stream",
          "text": [
            "TensorFlow 1.x selected.\n"
          ],
          "name": "stdout"
        }
      ]
    },
    {
      "cell_type": "code",
      "metadata": {
        "id": "0Ke7xN6Zf_rx",
        "colab_type": "code",
        "colab": {
          "base_uri": "https://localhost:8080/",
          "height": 204
        },
        "outputId": "0a2e6d19-d84b-436f-ae08-c6ea5ac316f7"
      },
      "source": [
        "!test -f newsticker2019.db || wget https://datanizing.com/bert/heise/newsticker2019.db"
      ],
      "execution_count": 2,
      "outputs": [
        {
          "output_type": "stream",
          "text": [
            "--2020-07-17 08:58:41--  https://datanizing.com/bert/heise/newsticker2019.db\n",
            "Resolving datanizing.com (datanizing.com)... 37.221.195.1\n",
            "Connecting to datanizing.com (datanizing.com)|37.221.195.1|:443... connected.\n",
            "HTTP request sent, awaiting response... 200 OK\n",
            "Length: 1183744 (1.1M) [application/octet-stream]\n",
            "Saving to: ‘newsticker2019.db’\n",
            "\n",
            "newsticker2019.db   100%[===================>]   1.13M  1.94MB/s    in 0.6s    \n",
            "\n",
            "2020-07-17 08:58:42 (1.94 MB/s) - ‘newsticker2019.db’ saved [1183744/1183744]\n",
            "\n"
          ],
          "name": "stdout"
        }
      ]
    },
    {
      "cell_type": "code",
      "metadata": {
        "id": "8EUFZ5OPnDbb",
        "colab_type": "code",
        "colab": {}
      },
      "source": [
        "sql = sqlite3.connect(\"newsticker2019.db\")\n",
        "texts = pd.read_sql(\"SELECT id, text FROM news\", sql, index_col=\"id\")"
      ],
      "execution_count": 4,
      "outputs": []
    },
    {
      "cell_type": "code",
      "metadata": {
        "id": "DhYF_L9Dm_S9",
        "colab_type": "code",
        "colab": {}
      },
      "source": [
        "elmo = hub.Module(\"https://tfhub.dev/google/elmo/3\", trainable=True)"
      ],
      "execution_count": 5,
      "outputs": []
    },
    {
      "cell_type": "code",
      "metadata": {
        "id": "ukdkudiVnBDJ",
        "colab_type": "code",
        "colab": {}
      },
      "source": [
        "def elmo_vectors(x):\n",
        "  embeddings = elmo(x, signature=\"default\", as_dict=True)[\"elmo\"]\n",
        "\n",
        "  with tf.Session() as sess:\n",
        "    sess.run(tf.global_variables_initializer())\n",
        "    sess.run(tf.tables_initializer())\n",
        "    # return average of ELMo features\n",
        "    return sess.run(tf.reduce_mean(embeddings,1))"
      ],
      "execution_count": 6,
      "outputs": []
    },
    {
      "cell_type": "code",
      "metadata": {
        "id": "QTJpNGD0n0kJ",
        "colab_type": "code",
        "colab": {
          "base_uri": "https://localhost:8080/",
          "height": 66,
          "referenced_widgets": [
            "f08505e3c6914c148dbff900f9f74cdb",
            "4fc59d9eae80463ab8d1a97aea0a8ff8",
            "5f668ba738ef489f92c13829f1492d3c",
            "42555b22a8c943568c15cd335fc14e1c",
            "0c6f906855e6424ea6ea3ebc004551d0",
            "026b05db3b2146bda72636917265a410",
            "b284acbfbc8749efa3ba30fc6a19de40",
            "b5116cab05d043588df56d48a3fa54c7"
          ]
        },
        "outputId": "8f87edc9-264b-4bf4-e69d-cd07ff397fd5"
      },
      "source": [
        "from tqdm.auto import trange\n",
        "vecs = []\n",
        "for i in trange(int(len(texts)/100)+1):\n",
        "    r = elmo_vectors(texts[i*100:(i+1)*100].text.map(str).values)\n",
        "    if len(vecs) > 0:\n",
        "        vecs = np.vstack([vecs, r])\n",
        "    else:\n",
        "        vecs = r"
      ],
      "execution_count": 7,
      "outputs": [
        {
          "output_type": "display_data",
          "data": {
            "application/vnd.jupyter.widget-view+json": {
              "model_id": "f08505e3c6914c148dbff900f9f74cdb",
              "version_minor": 0,
              "version_major": 2
            },
            "text/plain": [
              "HBox(children=(FloatProgress(value=0.0, max=101.0), HTML(value='')))"
            ]
          },
          "metadata": {
            "tags": []
          }
        },
        {
          "output_type": "stream",
          "text": [
            "\n"
          ],
          "name": "stdout"
        }
      ]
    },
    {
      "cell_type": "code",
      "metadata": {
        "id": "wTYe2ZNagQdN",
        "colab_type": "code",
        "colab": {}
      },
      "source": [
        "from sklearn.metrics.pairwise import cosine_similarity\n",
        "# Cosinus-Ähnlichkeit aller Dokumente miteinander berechnen\n",
        "sim = cosine_similarity(vecs, vecs)"
      ],
      "execution_count": 8,
      "outputs": []
    },
    {
      "cell_type": "code",
      "metadata": {
        "id": "2iMsZidgz9xQ",
        "colab_type": "code",
        "colab": {
          "base_uri": "https://localhost:8080/",
          "height": 34
        },
        "outputId": "b801e5b9-751a-40e0-c240-22c7c6e55347"
      },
      "source": [
        "# Ergebnis ist eine Matrix\n",
        "sim.shape"
      ],
      "execution_count": 9,
      "outputs": [
        {
          "output_type": "execute_result",
          "data": {
            "text/plain": [
              "(10077, 10077)"
            ]
          },
          "metadata": {
            "tags": []
          },
          "execution_count": 9
        }
      ]
    },
    {
      "cell_type": "code",
      "metadata": {
        "id": "cgFJcjz1C3Rs",
        "colab_type": "code",
        "colab": {
          "base_uri": "https://localhost:8080/",
          "height": 34
        },
        "outputId": "29f58bc4-c5ff-4308-b76f-983357778b45"
      },
      "source": [
        "# Größter Wert wird für identische Meldungen gefunden\n",
        "sim.max()"
      ],
      "execution_count": 10,
      "outputs": [
        {
          "output_type": "execute_result",
          "data": {
            "text/plain": [
              "1.0000008"
            ]
          },
          "metadata": {
            "tags": []
          },
          "execution_count": 10
        }
      ]
    },
    {
      "cell_type": "code",
      "metadata": {
        "id": "lDgVjsCOC4p6",
        "colab_type": "code",
        "colab": {
          "base_uri": "https://localhost:8080/",
          "height": 105
        },
        "outputId": "5393b529-e0b9-466a-8dba-070125b8f313"
      },
      "source": [
        "for threshhold in [0.7, 0.8, 0.9, 0.95]:\n",
        "    s = sim.copy()\n",
        "    # alle über dem Threshhold ausmaskieren\n",
        "    s[s > threshhold] = 0\n",
        "    (max_a, max_b) = np.unravel_index(np.argmax(s), s.shape)\n",
        "    print(\"%f '%s' '%s'\" % (threshhold, texts.iloc[max_a][\"text\"], texts.iloc[max_b][\"text\"]))"
      ],
      "execution_count": 11,
      "outputs": [
        {
          "output_type": "stream",
          "text": [
            "0.700000 'Virenschutz im Test: Reicht der Windows Defender wirklich?' 'Mars-Rover Curiosity: Zwei Sonnenverfinsterungen in wenigen Tagen'\n",
            "0.800000 'Digitalradio: Österreich bekommt Ende Mai zusätzliche Sendestationen' 'Strom speichern mit Wasser: Potenzial für Pumpspeicherkraftwerke hundertmal größer als Bedarf'\n",
            "0.900000 'Verteidigung: EU-Parlament gibt Milliarden frei, aber nicht für Killer-Roboter' 'Bundesrat: E-Scooter dürfen nicht auf Gehwege und erst ab 14 genutzt werden'\n",
            "0.950000 'IT-Jobtag in Hamburg: Arbeitgeber treffen am 27. Februar auf Bewerber' 'IT-Jobtag in Düsseldorf: Arbeitgeber treffen am 21. März auf Bewerber'\n"
          ],
          "name": "stdout"
        }
      ]
    },
    {
      "cell_type": "code",
      "metadata": {
        "id": "5jNjnaf-C53b",
        "colab_type": "code",
        "colab": {}
      },
      "source": [
        "# Alternative Aufgabe: Ähnlichste Nachrichten in unterschiedlichen Monaten finden"
      ],
      "execution_count": 12,
      "outputs": []
    },
    {
      "cell_type": "code",
      "metadata": {
        "id": "ZLrnHTUkC7Aa",
        "colab_type": "code",
        "colab": {}
      },
      "source": [
        ""
      ],
      "execution_count": null,
      "outputs": []
    }
  ]
}