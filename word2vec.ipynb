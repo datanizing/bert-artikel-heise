{
  "nbformat": 4,
  "nbformat_minor": 0,
  "metadata": {
    "colab": {
      "name": "Copy of word2vec.ipynb",
      "provenance": []
    },
    "kernelspec": {
      "name": "python3",
      "display_name": "Python 3"
    }
  },
  "cells": [
    {
      "cell_type": "code",
      "metadata": {
        "id": "1vsNzSXaz_Rv",
        "colab_type": "code",
        "colab": {}
      },
      "source": [
        "!wget https://datanizing.com/bert/heise/newsticker-word2vec.7z && 7z x newsticker-word2vec.7z"
      ],
      "execution_count": null,
      "outputs": []
    },
    {
      "cell_type": "code",
      "metadata": {
        "id": "UPvA8I3c0LLL",
        "colab_type": "code",
        "colab": {}
      },
      "source": [
        "from gensim.models import KeyedVectors\n",
        "heise = KeyedVectors.load(\"newsticker.wv\", mmap='r')"
      ],
      "execution_count": null,
      "outputs": []
    },
    {
      "cell_type": "code",
      "metadata": {
        "id": "V__Zd0kc0b6c",
        "colab_type": "code",
        "colab": {}
      },
      "source": [
        "heise.most_similar(positive=[\"apple\"], topn=10)"
      ],
      "execution_count": null,
      "outputs": []
    },
    {
      "cell_type": "code",
      "metadata": {
        "id": "A01Ed2W-ByhI",
        "colab_type": "code",
        "colab": {}
      },
      "source": [
        "%matplotlib inline\n",
        "import pandas as pd\n",
        "pd.DataFrame(heise.most_similar(positive=[\"apple\"], topn=10)[::-1], \n",
        "             columns=[\"word\", \"sim\"]).set_index(\"word\").plot.barh()"
      ],
      "execution_count": null,
      "outputs": []
    },
    {
      "cell_type": "code",
      "metadata": {
        "id": "tvifnlR0DuwP",
        "colab_type": "code",
        "colab": {}
      },
      "source": [
        "pd.DataFrame(heise.most_similar(positive=[\"google\"], topn=10)[::-1], \n",
        "             columns=[\"word\", \"sim\"]).set_index(\"word\").plot.barh()"
      ],
      "execution_count": null,
      "outputs": []
    },
    {
      "cell_type": "code",
      "metadata": {
        "id": "1-LWBIenDzXn",
        "colab_type": "code",
        "colab": {}
      },
      "source": [
        "pd.DataFrame(heise.most_similar(positive=[\"apple\", \"android\"], negative=[\"google\"],  topn=5))"
      ],
      "execution_count": null,
      "outputs": []
    },
    {
      "cell_type": "code",
      "metadata": {
        "id": "5elabES-D1d4",
        "colab_type": "code",
        "colab": {}
      },
      "source": [
        "pd.DataFrame(heise.most_similar(positive=[\"apple\", \"windows\"], negative=[\"microsoft\"],  topn=5))"
      ],
      "execution_count": null,
      "outputs": []
    },
    {
      "cell_type": "code",
      "metadata": {
        "id": "UCnGCDQcD4Uj",
        "colab_type": "code",
        "colab": {}
      },
      "source": [
        ""
      ],
      "execution_count": null,
      "outputs": []
    }
  ]
}