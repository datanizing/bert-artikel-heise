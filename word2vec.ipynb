{
 "cells": [
  {
   "cell_type": "code",
   "execution_count": null,
   "metadata": {
    "colab": {},
    "colab_type": "code",
    "id": "1vsNzSXaz_Rv"
   },
   "outputs": [],
   "source": [
    "!test -f newsticker.wv || wget https://datanizing.com/bert/heise/newsticker-word2vec.7z && 7z x newsticker-word2vec.7z"
   ]
  },
  {
   "cell_type": "code",
   "execution_count": null,
   "metadata": {
    "colab": {},
    "colab_type": "code",
    "id": "UPvA8I3c0LLL"
   },
   "outputs": [],
   "source": [
    "from gensim.models import KeyedVectors\n",
    "heise = KeyedVectors.load(\"newsticker.wv\", mmap='r')"
   ]
  },
  {
   "cell_type": "code",
   "execution_count": null,
   "metadata": {
    "colab": {},
    "colab_type": "code",
    "id": "V__Zd0kc0b6c"
   },
   "outputs": [],
   "source": [
    "heise.most_similar(positive=[\"apple\"], topn=10)"
   ]
  },
  {
   "cell_type": "code",
   "execution_count": null,
   "metadata": {
    "colab": {},
    "colab_type": "code",
    "id": "A01Ed2W-ByhI"
   },
   "outputs": [],
   "source": [
    "%matplotlib inline\n",
    "import pandas as pd\n",
    "pd.DataFrame(heise.most_similar(positive=[\"apple\"], topn=10)[::-1], \n",
    "             columns=[\"word\", \"sim\"]).set_index(\"word\").plot.barh()"
   ]
  },
  {
   "cell_type": "code",
   "execution_count": null,
   "metadata": {
    "colab": {},
    "colab_type": "code",
    "id": "tvifnlR0DuwP"
   },
   "outputs": [],
   "source": [
    "pd.DataFrame(heise.most_similar(positive=[\"google\"], topn=10)[::-1], \n",
    "             columns=[\"word\", \"sim\"]).set_index(\"word\").plot.barh()"
   ]
  },
  {
   "cell_type": "code",
   "execution_count": null,
   "metadata": {
    "colab": {},
    "colab_type": "code",
    "id": "1-LWBIenDzXn"
   },
   "outputs": [],
   "source": [
    "pd.DataFrame(heise.most_similar(positive=[\"apple\", \"android\"], negative=[\"google\"],  topn=5))"
   ]
  },
  {
   "cell_type": "code",
   "execution_count": null,
   "metadata": {
    "colab": {},
    "colab_type": "code",
    "id": "5elabES-D1d4"
   },
   "outputs": [],
   "source": [
    "pd.DataFrame(heise.most_similar(positive=[\"apple\", \"windows\"], negative=[\"microsoft\"],  topn=5))"
   ]
  }
 ],
 "metadata": {
  "colab": {
   "name": "Copy of word2vec.ipynb",
   "provenance": []
  },
  "kernelspec": {
   "display_name": "Python 3",
   "language": "python",
   "name": "python3"
  },
  "language_info": {
   "codemirror_mode": {
    "name": "ipython",
    "version": 3
   },
   "file_extension": ".py",
   "mimetype": "text/x-python",
   "name": "python",
   "nbconvert_exporter": "python",
   "pygments_lexer": "ipython3",
   "version": "3.8.2"
  }
 },
 "nbformat": 4,
 "nbformat_minor": 1
}
